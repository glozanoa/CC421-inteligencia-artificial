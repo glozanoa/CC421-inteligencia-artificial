{
 "cells": [
  {
   "cell_type": "markdown",
   "id": "ecbc09da-149d-4b5a-b1ad-074116b354bd",
   "metadata": {},
   "source": [
    "## CC421 FINAL EXAM 2023-I - PART2"
   ]
  },
  {
   "cell_type": "markdown",
   "id": "8f6a474a-83c5-4ed2-a179-37722a899beb",
   "metadata": {},
   "source": [
    "![CC421-FINAL-2023-PART2](./images/CC421-FINAL-2023.2.jpg)"
   ]
  },
  {
   "cell_type": "markdown",
   "id": "d6333203-4500-46c1-a85c-01883bf755c3",
   "metadata": {},
   "source": [
    "![CC421-FINAL-2023-PART2_1](./images/CC421-FINAL-2023.3.jpeg)"
   ]
  },
  {
   "cell_type": "markdown",
   "id": "0af42dc6-8793-42b7-991a-fa07dd0d2268",
   "metadata": {},
   "source": [
    "![CC421-FINAL-2023-PART2_2](./images/CC421-FINAL-2023.4.jpeg)"
   ]
  },
  {
   "cell_type": "markdown",
   "id": "2af79dfc-e19b-416c-ba81-bc86aef239fc",
   "metadata": {},
   "source": [
    "### Resources\n",
    "- [Understanding Backpropagation](https://towardsdatascience.com/understanding-backpropagation-abcc509ca9d0)\n",
    "- https://arxiv.org/pdf/1412.6980.pdf"
   ]
  }
 ],
 "metadata": {
  "kernelspec": {
   "display_name": "Python 3 (ipykernel)",
   "language": "python",
   "name": "python3"
  },
  "language_info": {
   "codemirror_mode": {
    "name": "ipython",
    "version": 3
   },
   "file_extension": ".py",
   "mimetype": "text/x-python",
   "name": "python",
   "nbconvert_exporter": "python",
   "pygments_lexer": "ipython3",
   "version": "3.11.6"
  }
 },
 "nbformat": 4,
 "nbformat_minor": 5
}
