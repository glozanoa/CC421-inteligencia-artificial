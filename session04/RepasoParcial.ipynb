{
 "cells": [
  {
   "cell_type": "code",
   "execution_count": 167,
   "id": "fef4b8e4-154d-4a78-805c-2f88bb4908f6",
   "metadata": {},
   "outputs": [
    {
     "name": "stdout",
     "output_type": "stream",
     "text": [
      "--2023-10-16 17:52:00--  https://www.redblobgames.com/pathfinding/a-star/implementation.py\n",
      "Loaded CA certificate '/etc/ssl/certs/ca-certificates.crt'\n",
      "Resolving www.redblobgames.com (www.redblobgames.com)... 34.198.241.65, 2600:1f18:1ddd:5500:7259:747f:cbe0:9b5f\n",
      "Connecting to www.redblobgames.com (www.redblobgames.com)|34.198.241.65|:443... connected.\n",
      "HTTP request sent, awaiting response... 200 OK\n",
      "Length: 8863 (8.7K) [text/plain]\n",
      "Saving to: ‘implementation.py’\n",
      "\n",
      "implementation.py   100%[===================>]   8.66K  --.-KB/s    in 0s      \n",
      "\n",
      "2023-10-16 17:52:01 (120 MB/s) - ‘implementation.py’ saved [8863/8863]\n",
      "\n"
     ]
    }
   ],
   "source": [
    "!wget -O implementation.py https://www.redblobgames.com/pathfinding/a-star/implementation.py"
   ]
  },
  {
   "cell_type": "code",
   "execution_count": 168,
   "id": "100e503d-f153-48e2-9843-52c186a4724c",
   "metadata": {},
   "outputs": [
    {
     "name": "stdout",
     "output_type": "stream",
     "text": [
      "images\timplementation.py  __pycache__\tREADME.md  RepasoParcial.ipynb\ttarea\n"
     ]
    }
   ],
   "source": [
    "!ls"
   ]
  },
  {
   "cell_type": "code",
   "execution_count": 169,
   "id": "e99f769f-0acd-410a-87f1-3d6a678b1b90",
   "metadata": {},
   "outputs": [],
   "source": [
    "import implementation"
   ]
  },
  {
   "cell_type": "markdown",
   "id": "285d33a0-eef7-412d-af5d-29fcf05a9c25",
   "metadata": {},
   "source": [
    "# Practica Califica 1 - 20231\n",
    "\n",
    "![pc1_01](./images/pc1_01.jpeg)\n",
    "\n",
    "---\n",
    "![pc1_02](./images/pc1_02.jpeg)"
   ]
  },
  {
   "cell_type": "code",
   "execution_count": 170,
   "id": "843a9902-289e-47da-b2be-6993930ec46e",
   "metadata": {},
   "outputs": [],
   "source": [
    "import math\n",
    "from implementation import WeightedGraph, Location\n",
    "from collections import defaultdict\n",
    "\n",
    "class MyGraph(WeightedGraph):\n",
    "    def __init__(self):\n",
    "        self.edges: dict[Location, list[Location]] = defaultdict(lambda: [])\n",
    "        self.weights: dict[(Location, Location), float] = defaultdict(lambda : math.inf)\n",
    "\n",
    "    def addEdges(self, edges: dict[Location, list[Location]]):\n",
    "        for start, end  in edges.items():\n",
    "            self.edges[start] = end\n",
    "\n",
    "    def setWeights(self, weights: dict[(Location, Location), float]):\n",
    "        for edge, weight in weights.items():\n",
    "            self.weights[edge] = weight\n",
    "\n",
    "    def neighbors(self, id: Location) -> list[Location]:\n",
    "        # https://stackoverflow.com/questions/51939531/directed-graph-node-neighbors\n",
    "        return self.edges[id]\n",
    "    def cost(self, from_id: Location, to_id: Location) -> float:\n",
    "        return self.weights[(from_id, to_id)]"
   ]
  },
  {
   "cell_type": "code",
   "execution_count": 171,
   "id": "19515406-ff63-4d41-b582-c6d608d6071d",
   "metadata": {},
   "outputs": [],
   "source": [
    "graph = MyGraph()\n",
    "\n",
    "edges = {\n",
    "    'A': ['B', 'C'],\n",
    "    'B': ['D'],\n",
    "    'C': ['B', 'E', 'G'],\n",
    "    'D': ['F'],\n",
    "    'E': ['D', 'F'],\n",
    "    'F': ['G', 'H'],\n",
    "    'G': ['E', 'H'],\n",
    "}\n",
    "\n",
    "weights = {\n",
    "    ('A', 'B'): 10,\n",
    "    ('A', 'C'): 8,\n",
    "    \n",
    "    ('B', 'D'): 4,\n",
    "    \n",
    "    ('C', 'B'): 8,\n",
    "    ('C', 'E'): 5,\n",
    "    \n",
    "    ('D', 'F'): 5,\n",
    "    \n",
    "    ('E', 'D'): 5,\n",
    "    ('E', 'F'): 7,\n",
    "    \n",
    "    ('F', 'G'): 6,\n",
    "    ('F', 'H'): 6,\n",
    "\n",
    "    ('G', 'E'): 2,\n",
    "    ('G', 'H'): 5\n",
    "}\n",
    "\n",
    "graph.addEdges(edges)\n",
    "graph.setWeights(weights)"
   ]
  },
  {
   "cell_type": "code",
   "execution_count": 172,
   "id": "521fae4a-16c0-415d-b0de-cb0745f16c60",
   "metadata": {},
   "outputs": [
    {
     "data": {
      "text/plain": [
       "defaultdict(<function __main__.MyGraph.__init__.<locals>.<lambda>()>,\n",
       "            {'A': ['B', 'C'],\n",
       "             'B': ['D'],\n",
       "             'C': ['B', 'E', 'G'],\n",
       "             'D': ['F'],\n",
       "             'E': ['D', 'F'],\n",
       "             'F': ['G', 'H'],\n",
       "             'G': ['E', 'H']})"
      ]
     },
     "execution_count": 172,
     "metadata": {},
     "output_type": "execute_result"
    }
   ],
   "source": [
    "graph.edges"
   ]
  },
  {
   "cell_type": "code",
   "execution_count": 173,
   "id": "ba7ea278-0109-43b5-b41b-58922e109435",
   "metadata": {},
   "outputs": [
    {
     "data": {
      "text/plain": [
       "inf"
      ]
     },
     "execution_count": 173,
     "metadata": {},
     "output_type": "execute_result"
    }
   ],
   "source": [
    "graph.weights[('G', 'A')]"
   ]
  },
  {
   "cell_type": "code",
   "execution_count": 174,
   "id": "44f70bfc-9535-4eff-b52a-3ffc695dd49c",
   "metadata": {},
   "outputs": [
    {
     "data": {
      "text/plain": [
       "['B', 'E', 'G']"
      ]
     },
     "execution_count": 174,
     "metadata": {},
     "output_type": "execute_result"
    }
   ],
   "source": [
    "graph.neighbors('C')"
   ]
  },
  {
   "cell_type": "code",
   "execution_count": 175,
   "id": "37328b37-6365-4a32-8803-25c579d44403",
   "metadata": {},
   "outputs": [
    {
     "data": {
      "text/plain": [
       "5"
      ]
     },
     "execution_count": 175,
     "metadata": {},
     "output_type": "execute_result"
    }
   ],
   "source": [
    "graph.cost('C', 'E')"
   ]
  },
  {
   "cell_type": "code",
   "execution_count": 176,
   "id": "94e53656-a88b-48b5-925f-0d6e7d8671f3",
   "metadata": {},
   "outputs": [
    {
     "data": {
      "text/plain": [
       "inf"
      ]
     },
     "execution_count": 176,
     "metadata": {},
     "output_type": "execute_result"
    }
   ],
   "source": [
    "graph.cost('C', 'H')"
   ]
  },
  {
   "cell_type": "markdown",
   "id": "28e50e51-32b2-466b-8f07-19d916b80bf7",
   "metadata": {},
   "source": [
    "### Metodo de busqueda de costo uniforme - dijkstra"
   ]
  },
  {
   "cell_type": "code",
   "execution_count": 177,
   "id": "be39d7cf-3934-4690-b538-4334c911ddad",
   "metadata": {},
   "outputs": [],
   "source": [
    "from implementation import dijkstra_search\n",
    "\n",
    "start = 'A'\n",
    "goal = 'H'\n",
    "\n",
    "come_from, cost_so_far = dijkstra_search(graph, start, goal)"
   ]
  },
  {
   "cell_type": "code",
   "execution_count": 178,
   "id": "290570d5-0515-494d-9ed0-fb06455e4c1c",
   "metadata": {},
   "outputs": [
    {
     "data": {
      "text/plain": [
       "['A', 'B', 'D', 'F', 'H']"
      ]
     },
     "execution_count": 178,
     "metadata": {},
     "output_type": "execute_result"
    }
   ],
   "source": [
    "from implementation import reconstruct_path\n",
    "\n",
    "reconstruct_path(come_from, start, goal)"
   ]
  },
  {
   "cell_type": "code",
   "execution_count": null,
   "id": "f7e7a9d6-e4e8-4797-a0a5-f28ce76d7efe",
   "metadata": {},
   "outputs": [],
   "source": []
  },
  {
   "cell_type": "markdown",
   "id": "3fe6a87c-1f61-45b9-934d-5d757189f229",
   "metadata": {},
   "source": [
    "# Examen Parcial - Parte II (2023-I)\n",
    "\n",
    "![parcial01](./images/parcial01.jpeg)\n",
    "\n",
    "---\n",
    "![parcial02](./images/parcial02.jpeg)"
   ]
  },
  {
   "cell_type": "code",
   "execution_count": 179,
   "id": "71b5a320-84c0-4ce2-8161-61a96f480813",
   "metadata": {},
   "outputs": [],
   "source": [
    "from enum import Enum\n",
    "\n",
    "class City(Enum):\n",
    "    LIMA = 0\n",
    "    AREQUIPA = 1\n",
    "    TRUJILLO = 2\n",
    "    CHICLAYO = 3\n",
    "    PIURA = 4\n",
    "    HUANCAYO = 5\n",
    "    CUZCO = 6\n",
    "    IQUITOS = 7\n",
    "    PUCALLPA = 8\n",
    "    CHIMBOTE = 9\n",
    "    ICA = 10\n",
    "    TACNA = 11\n",
    "    PUERTO_MALDONADO = 12\n",
    "    "
   ]
  },
  {
   "cell_type": "code",
   "execution_count": 180,
   "id": "b6feea20-4366-4071-a835-9914536fd8dd",
   "metadata": {},
   "outputs": [
    {
     "data": {
      "text/plain": [
       "{(<City.LIMA: 0>, <City.AREQUIPA: 1>): 1015,\n",
       " (<City.LIMA: 0>, <City.TRUJILLO: 2>): 557,\n",
       " (<City.LIMA: 0>, <City.HUANCAYO: 5>): 325,\n",
       " (<City.LIMA: 0>, <City.CHICLAYO: 3>): 770,\n",
       " (<City.LIMA: 0>, <City.ICA: 10>): 300,\n",
       " (<City.LIMA: 0>, <City.PIURA: 4>): 1060,\n",
       " (<City.LIMA: 0>, <City.PUCALLPA: 8>): 789,\n",
       " (<City.LIMA: 0>, <City.IQUITOS: 7>): 1037,\n",
       " (<City.LIMA: 0>, <City.CHIMBOTE: 9>): 439,\n",
       " (<City.LIMA: 0>, <City.CUZCO: 6>): 1109,\n",
       " (<City.AREQUIPA: 1>, <City.TACNA: 11>): 376,\n",
       " (<City.AREQUIPA: 1>, <City.CUZCO: 6>): 623,\n",
       " (<City.TRUJILLO: 2>, <City.CHIMBOTE: 9>): 130,\n",
       " (<City.TRUJILLO: 2>, <City.CHICLAYO: 3>): 213,\n",
       " (<City.CHICLAYO: 3>, <City.TRUJILLO: 2>): 213,\n",
       " (<City.CHICLAYO: 3>, <City.PIURA: 4>): 211,\n",
       " (<City.CUZCO: 6>, <City.PUERTO_MALDONADO: 12>): 446}"
      ]
     },
     "execution_count": 180,
     "metadata": {},
     "output_type": "execute_result"
    }
   ],
   "source": [
    "city_graph = MyGraph()\n",
    "\n",
    "\n",
    "directed_weights = {\n",
    "    (City.LIMA, City.AREQUIPA): 1015,\n",
    "    (City.LIMA, City.TRUJILLO): 557,\n",
    "    (City.LIMA, City.HUANCAYO): 325,\n",
    "    (City.LIMA, City.CHICLAYO): 770,\n",
    "    (City.LIMA, City.ICA): 300,\n",
    "    (City.LIMA, City.PIURA): 1060,\n",
    "    (City.LIMA, City.PUCALLPA): 789,\n",
    "    (City.LIMA, City.IQUITOS): 1037,\n",
    "    (City.LIMA, City.CHIMBOTE): 439,\n",
    "    (City.LIMA, City.CUZCO): 1109,\n",
    "\n",
    "    #('arequipa', 'lima'): 1015,\n",
    "    (City.AREQUIPA, City.TACNA): 376,\n",
    "    (City.AREQUIPA, City.CUZCO): 623,\n",
    "\n",
    "    #('trujillo', 'lima'): 557,\n",
    "    (City.TRUJILLO, City.CHIMBOTE): 130,\n",
    "    (City.TRUJILLO, City.CHICLAYO): 213,\n",
    "\n",
    "    #('chiclayo', 'lima'): 770,\n",
    "    (City.CHICLAYO, City.TRUJILLO): 213,\n",
    "    (City.CHICLAYO, City.PIURA): 211,\n",
    "\n",
    "    #('piura', 'lima'): 1060,\n",
    "    #('piura', 'chiclayo'): 211,\n",
    "\n",
    "    #('chimbote', 'lima'): 439\n",
    "    #('chimbote', 'trujillo'): 130,\n",
    "\n",
    "    #('cuzco', 'lima'): 1109,\n",
    "    #('cuzco', 'arequipa'): 623,\n",
    "    (City.CUZCO, City.PUERTO_MALDONADO): 446,\n",
    "}\n",
    "\n",
    "directed_weights"
   ]
  },
  {
   "cell_type": "code",
   "execution_count": 181,
   "id": "9fdadd2a-beeb-4ef5-b449-1ca36fe6b97e",
   "metadata": {},
   "outputs": [
    {
     "data": {
      "text/plain": [
       "{(<City.AREQUIPA: 1>, <City.LIMA: 0>): 1015,\n",
       " (<City.TRUJILLO: 2>, <City.LIMA: 0>): 557,\n",
       " (<City.HUANCAYO: 5>, <City.LIMA: 0>): 325,\n",
       " (<City.CHICLAYO: 3>, <City.LIMA: 0>): 770,\n",
       " (<City.ICA: 10>, <City.LIMA: 0>): 300,\n",
       " (<City.PIURA: 4>, <City.LIMA: 0>): 1060,\n",
       " (<City.PUCALLPA: 8>, <City.LIMA: 0>): 789,\n",
       " (<City.IQUITOS: 7>, <City.LIMA: 0>): 1037,\n",
       " (<City.CHIMBOTE: 9>, <City.LIMA: 0>): 439,\n",
       " (<City.CUZCO: 6>, <City.LIMA: 0>): 1109,\n",
       " (<City.TACNA: 11>, <City.AREQUIPA: 1>): 376,\n",
       " (<City.CUZCO: 6>, <City.AREQUIPA: 1>): 623,\n",
       " (<City.CHIMBOTE: 9>, <City.TRUJILLO: 2>): 130,\n",
       " (<City.CHICLAYO: 3>, <City.TRUJILLO: 2>): 213,\n",
       " (<City.TRUJILLO: 2>, <City.CHICLAYO: 3>): 213,\n",
       " (<City.PIURA: 4>, <City.CHICLAYO: 3>): 211,\n",
       " (<City.PUERTO_MALDONADO: 12>, <City.CUZCO: 6>): 446}"
      ]
     },
     "execution_count": 181,
     "metadata": {},
     "output_type": "execute_result"
    }
   ],
   "source": [
    "inverse_directed_weights = dict({(dest, origen): value for (origen, dest), value in directed_weights.items()})\n",
    "inverse_directed_weights"
   ]
  },
  {
   "cell_type": "code",
   "execution_count": 182,
   "id": "b9d59e7e-17f5-4ab0-ade9-89f8de524264",
   "metadata": {},
   "outputs": [
    {
     "data": {
      "text/plain": [
       "{(<City.LIMA: 0>, <City.AREQUIPA: 1>): 1015,\n",
       " (<City.LIMA: 0>, <City.TRUJILLO: 2>): 557,\n",
       " (<City.LIMA: 0>, <City.HUANCAYO: 5>): 325,\n",
       " (<City.LIMA: 0>, <City.CHICLAYO: 3>): 770,\n",
       " (<City.LIMA: 0>, <City.ICA: 10>): 300,\n",
       " (<City.LIMA: 0>, <City.PIURA: 4>): 1060,\n",
       " (<City.LIMA: 0>, <City.PUCALLPA: 8>): 789,\n",
       " (<City.LIMA: 0>, <City.IQUITOS: 7>): 1037,\n",
       " (<City.LIMA: 0>, <City.CHIMBOTE: 9>): 439,\n",
       " (<City.LIMA: 0>, <City.CUZCO: 6>): 1109,\n",
       " (<City.AREQUIPA: 1>, <City.TACNA: 11>): 376,\n",
       " (<City.AREQUIPA: 1>, <City.CUZCO: 6>): 623,\n",
       " (<City.TRUJILLO: 2>, <City.CHIMBOTE: 9>): 130,\n",
       " (<City.TRUJILLO: 2>, <City.CHICLAYO: 3>): 213,\n",
       " (<City.CHICLAYO: 3>, <City.TRUJILLO: 2>): 213,\n",
       " (<City.CHICLAYO: 3>, <City.PIURA: 4>): 211,\n",
       " (<City.CUZCO: 6>, <City.PUERTO_MALDONADO: 12>): 446,\n",
       " (<City.AREQUIPA: 1>, <City.LIMA: 0>): 1015,\n",
       " (<City.TRUJILLO: 2>, <City.LIMA: 0>): 557,\n",
       " (<City.HUANCAYO: 5>, <City.LIMA: 0>): 325,\n",
       " (<City.CHICLAYO: 3>, <City.LIMA: 0>): 770,\n",
       " (<City.ICA: 10>, <City.LIMA: 0>): 300,\n",
       " (<City.PIURA: 4>, <City.LIMA: 0>): 1060,\n",
       " (<City.PUCALLPA: 8>, <City.LIMA: 0>): 789,\n",
       " (<City.IQUITOS: 7>, <City.LIMA: 0>): 1037,\n",
       " (<City.CHIMBOTE: 9>, <City.LIMA: 0>): 439,\n",
       " (<City.CUZCO: 6>, <City.LIMA: 0>): 1109,\n",
       " (<City.TACNA: 11>, <City.AREQUIPA: 1>): 376,\n",
       " (<City.CUZCO: 6>, <City.AREQUIPA: 1>): 623,\n",
       " (<City.CHIMBOTE: 9>, <City.TRUJILLO: 2>): 130,\n",
       " (<City.PIURA: 4>, <City.CHICLAYO: 3>): 211,\n",
       " (<City.PUERTO_MALDONADO: 12>, <City.CUZCO: 6>): 446}"
      ]
     },
     "execution_count": 182,
     "metadata": {},
     "output_type": "execute_result"
    }
   ],
   "source": [
    "weights = {**directed_weights, **inverse_directed_weights}\n",
    "weights"
   ]
  },
  {
   "cell_type": "code",
   "execution_count": 183,
   "id": "cecef25f-2772-4a05-8ae9-7abf1c634ea1",
   "metadata": {},
   "outputs": [
    {
     "data": {
      "text/plain": [
       "defaultdict(list,\n",
       "            {<City.LIMA: 0>: [<City.AREQUIPA: 1>,\n",
       "              <City.TRUJILLO: 2>,\n",
       "              <City.HUANCAYO: 5>,\n",
       "              <City.CHICLAYO: 3>,\n",
       "              <City.ICA: 10>,\n",
       "              <City.PIURA: 4>,\n",
       "              <City.PUCALLPA: 8>,\n",
       "              <City.IQUITOS: 7>,\n",
       "              <City.CHIMBOTE: 9>,\n",
       "              <City.CUZCO: 6>],\n",
       "             <City.AREQUIPA: 1>: [<City.TACNA: 11>,\n",
       "              <City.CUZCO: 6>,\n",
       "              <City.LIMA: 0>],\n",
       "             <City.TRUJILLO: 2>: [<City.CHIMBOTE: 9>,\n",
       "              <City.CHICLAYO: 3>,\n",
       "              <City.LIMA: 0>],\n",
       "             <City.CHICLAYO: 3>: [<City.TRUJILLO: 2>,\n",
       "              <City.PIURA: 4>,\n",
       "              <City.LIMA: 0>],\n",
       "             <City.CUZCO: 6>: [<City.PUERTO_MALDONADO: 12>,\n",
       "              <City.LIMA: 0>,\n",
       "              <City.AREQUIPA: 1>],\n",
       "             <City.HUANCAYO: 5>: [<City.LIMA: 0>],\n",
       "             <City.ICA: 10>: [<City.LIMA: 0>],\n",
       "             <City.PIURA: 4>: [<City.LIMA: 0>, <City.CHICLAYO: 3>],\n",
       "             <City.PUCALLPA: 8>: [<City.LIMA: 0>],\n",
       "             <City.IQUITOS: 7>: [<City.LIMA: 0>],\n",
       "             <City.CHIMBOTE: 9>: [<City.LIMA: 0>, <City.TRUJILLO: 2>],\n",
       "             <City.TACNA: 11>: [<City.AREQUIPA: 1>],\n",
       "             <City.PUERTO_MALDONADO: 12>: [<City.CUZCO: 6>]})"
      ]
     },
     "execution_count": 183,
     "metadata": {},
     "output_type": "execute_result"
    }
   ],
   "source": [
    "edges = defaultdict(list)\n",
    "for (origen, dest), _ in weights.items():\n",
    "    if dest not in edges[origen]:\n",
    "        edges[origen].append(dest)\n",
    "\n",
    "edges"
   ]
  },
  {
   "cell_type": "code",
   "execution_count": 184,
   "id": "0cbe2017-f661-4ff3-a837-7b76a123a03f",
   "metadata": {},
   "outputs": [],
   "source": [
    "city_graph.addEdges(edges)\n",
    "city_graph.setWeights(weights)"
   ]
  },
  {
   "cell_type": "code",
   "execution_count": 185,
   "id": "5ddf15f9-f09a-4e35-a820-9a5e455fe7d6",
   "metadata": {},
   "outputs": [],
   "source": [
    "coordinates = { # city: (latitud, longitud)\n",
    "    City.LIMA: (-12.0464, -77.0428),\n",
    "    City.AREQUIPA: (-16.4090, -71.5375),\n",
    "    City.TRUJILLO: (-8.1091, -79.0215),\n",
    "    City.CHICLAYO: (-6.7766, -79.8443),\n",
    "    City.PIURA: (-5.1783, -80.6544),\n",
    "    # COMPLETAR COORDENADAS\n",
    "    City.HUANCAYO: (1, 1),\n",
    "    City.CUZCO: (1, 1),\n",
    "    City.IQUITOS: (1, 1),\n",
    "    City.PUCALLPA: (1, 1),\n",
    "    City.CHIMBOTE: (1, 1),\n",
    "    City.ICA: (1, 1),\n",
    "    City.TACNA: (1, 1),\n",
    "    City.PUERTO_MALDONADO: (1, 1)\n",
    "}"
   ]
  },
  {
   "cell_type": "code",
   "execution_count": 186,
   "id": "2b43ffb4-a845-48d0-a74b-92da87a22806",
   "metadata": {},
   "outputs": [],
   "source": [
    "from math import asin, sin, cos, sqrt\n",
    "\n",
    "def sin2(x):\n",
    "    return (1 - cos(2*x))/2\n",
    "\n",
    "# heuristic\n",
    "def heuristic(city1, city2):\n",
    "\n",
    "    coordinate1 = coordinates[city1]\n",
    "    coordinate2 = coordinates[city2]\n",
    "    \n",
    "    phi1, lambda1 = coordinate1\n",
    "    phi2, lambda2 = coordinate2\n",
    "    r = 1 # CHANGE BY ITS VALUE\n",
    "\n",
    "    tmp = sqrt(sin2((phi2 - phi1)/2) + cos(phi1)*cos(phi2)*sin2((lambda2 - lambda1)/2))\n",
    "    d = 2*r*asin(tmp)\n",
    "\n",
    "    return d"
   ]
  },
  {
   "cell_type": "code",
   "execution_count": 187,
   "id": "e7dead98-89ad-4be6-8829-a2e1242deb08",
   "metadata": {},
   "outputs": [],
   "source": [
    "def a_star_search(graph: WeightedGraph, start: Location, goal: Location):\n",
    "    frontier = PriorityQueue()\n",
    "    frontier.put(start, 0)\n",
    "    came_from: dict[Location, Optional[Location]] = {}\n",
    "    cost_so_far: dict[Location, float] = {}\n",
    "    came_from[start] = None\n",
    "    cost_so_far[start] = 0\n",
    "    \n",
    "    while not frontier.empty():\n",
    "        current: Location = frontier.get()\n",
    "        \n",
    "        if current == goal:\n",
    "            break\n",
    "        \n",
    "        for next in graph.neighbors(current):\n",
    "            new_cost = cost_so_far[current] + graph.cost(current, next)\n",
    "            if next not in cost_so_far or new_cost < cost_so_far[next]:\n",
    "                cost_so_far[next] = new_cost\n",
    "                priority = new_cost + heuristic(next, goal)\n",
    "                frontier.put(next, priority)\n",
    "                came_from[next] = current\n",
    "    \n",
    "    return came_from, cost_so_far"
   ]
  },
  {
   "cell_type": "code",
   "execution_count": 189,
   "id": "aea154f0-103b-46ec-b322-93a60679cd87",
   "metadata": {},
   "outputs": [],
   "source": [
    "from implementation import PriorityQueue, WeightedGraph, Location\n",
    "\n",
    "start = City.LIMA\n",
    "goal = City.PUERTO_MALDONADO\n",
    "\n",
    "come_from, cost_so_far = a_star_search(city_graph, start, goal)"
   ]
  },
  {
   "cell_type": "code",
   "execution_count": 190,
   "id": "eb716204-e905-4ee7-b9c4-e523dd9be896",
   "metadata": {},
   "outputs": [
    {
     "data": {
      "text/plain": [
       "[<City.LIMA: 0>, <City.CUZCO: 6>, <City.PUERTO_MALDONADO: 12>]"
      ]
     },
     "execution_count": 190,
     "metadata": {},
     "output_type": "execute_result"
    }
   ],
   "source": [
    "from implementation import reconstruct_path\n",
    "\n",
    "reconstruct_path(come_from, start, goal)"
   ]
  }
 ],
 "metadata": {
  "kernelspec": {
   "display_name": "Python 3 (ipykernel)",
   "language": "python",
   "name": "python3"
  },
  "language_info": {
   "codemirror_mode": {
    "name": "ipython",
    "version": 3
   },
   "file_extension": ".py",
   "mimetype": "text/x-python",
   "name": "python",
   "nbconvert_exporter": "python",
   "pygments_lexer": "ipython3",
   "version": "3.11.5"
  }
 },
 "nbformat": 4,
 "nbformat_minor": 5
}
