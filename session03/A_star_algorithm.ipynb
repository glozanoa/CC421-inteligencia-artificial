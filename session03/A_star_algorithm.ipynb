{
 "cells": [
  {
   "cell_type": "markdown",
   "id": "8736d357-9ee3-4afb-abe4-9878c748a508",
   "metadata": {},
   "source": [
    "## Search Algorithms - A*\n",
    "\n",
    "### Resources\n",
    "#### A* search algorithm\n",
    "- [Introduction to the A* Algorithm](https://www.redblobgames.com/pathfinding/a-star/introduction.html)\n",
    "- [Implementation of A*](https://www.redblobgames.com/pathfinding/a-star/implementation.html#python)\n",
    "- [Introduction to A*](https://theory.stanford.edu/~amitp/GameProgramming/AStarComparison.html)\n",
    "- [Amit's A\\* Pages - pathfinding](http://theory.stanford.edu/~amitp/GameProgramming/)\n",
    "---\n",
    "- [Grids and Graphs](https://www.redblobgames.com/pathfinding/grids/graphs.html)\n",
    "- [How do we represent a grid’s obstacles in a graph form?](https://www.redblobgames.com/pathfinding/grids/graphs.html#obstacles)\n",
    "- [Graph (abstract data type) - Wikipedia](https://en.wikipedia.org/wiki/Graph_(abstract_data_type)#Representations)\n",
    "---\n",
    "- [A* Search](https://www.codecademy.com/resources/docs/ai/search-algorithms/a-star-search)\n",
    "- [A* Search Algorithm - stackabuse](https://stackabuse.com/courses/graphs-in-python-theory-and-implementation/lessons/a-star-search-algorithm/)\n",
    "- [A* search algorithm - isaaccomputerscience](https://www.isaaccomputerscience.org/concepts/dsa_search_a_star)\n",
    "---\n",
    "- [Admissible heuristic](https://en.wikipedia.org/wiki/Admissible_heuristic)\n",
    "#### Other Lectures\n",
    "- [Breadth First Search](https://www.redblobgames.com/pathfinding/a-star/introduction.html#breadth-first-search)\n",
    "- [Breadth first search: early exits](https://www.redblobgames.com/pathfinding/early-exit/)"
   ]
  },
  {
   "cell_type": "markdown",
   "id": "bbb8423c-90a9-444f-835f-e72e5ef02512",
   "metadata": {},
   "source": [
    "`source`: https://www.redblobgames.com/pathfinding/a-star/introduction.html#more\n",
    "\n",
    "> **Which algorithm should you use for finding paths on a game map?**\n",
    "> \n",
    "> * If you want to find paths from or to all all locations, use Breadth First Search or Dijkstra’s Algorithm. Use Breadth First Search if movement costs are all the same; use Dijkstra’s Algorithm if movement costs vary.\n",
    "> * If you want to find paths to one location, or the closest of several goals, use Greedy Best First Search or A\\*. Prefer A\\* in most cases. When you’re tempted to use Greedy Best First Search, consider using A\\* with an “inadmissible” heuristic.\n",
    "\n",
    "> **What about optimal paths?**\n",
    ">\n",
    ">  Breadth First Search and Dijkstra’s Algorithm are guaranteed to find the shortest path given the input graph. Greedy Best First Search is not. A\\* is guaranteed to find the shortest path if the heuristic is never larger than the true distance. As the *heuristic becomes smaller*, **A\\* turns into Dijkstra’s Algorithm**. As the *heuristic becomes larger*, **A\\* turns into Greedy Best First Search**."
   ]
  },
  {
   "cell_type": "code",
   "execution_count": 7,
   "id": "d05c637e-ff17-42f7-a7b6-2eeefc5a947e",
   "metadata": {},
   "outputs": [],
   "source": [
    "# source: https://www.redblobgames.com/pathfinding/a-star/implementation.html#python\n",
    "#\n",
    "# This script contains:\n",
    "# - data structures: queue, priority queue, graph\n",
    "# - implementation of search algorithms: a_star_search, dijkstra, breadth_first_search\n",
    "# - utility function: reconstruct_path, draw_grid, ...\n",
    "# - examples: example_graph, DIAGRAM1_WALLS, diagram4\n",
    "import implementation"
   ]
  },
  {
   "cell_type": "markdown",
   "id": "1ec9074f-acaf-436b-ba07-a86dbfc20a3c",
   "metadata": {},
   "source": [
    "### EXAMPLES\n",
    "Examples to show how to use functionalities on **implementation.py** script.\n",
    "\n",
    "\n",
    "#### Resources\n",
    "- [pathfinding - python implementation](https://www.redblobgames.com/pathfinding/a-star/implementation.html)"
   ]
  },
  {
   "cell_type": "markdown",
   "id": "b0d94bb0-c960-4dd1-bc06-9649bf9d7c55",
   "metadata": {},
   "source": [
    "#### Directed Graph\n",
    "\n",
    "![directed-graph](./images/directed_graph.png)\n",
    "\n",
    "```python\n",
    "class SimpleGraph:\n",
    "    def __init__(self):\n",
    "        self.edges: dict[Location, list[Location]] = {}\n",
    "    \n",
    "    def neighbors(self, id: Location) -> list[Location]:\n",
    "        return self.edges[id]\n",
    "```"
   ]
  },
  {
   "cell_type": "code",
   "execution_count": 8,
   "id": "fd418e53-be3e-420d-941b-d102d5ff3575",
   "metadata": {},
   "outputs": [
    {
     "name": "stdout",
     "output_type": "stream",
     "text": [
      "graph edges: {'A': ['B'], 'B': ['C'], 'C': ['B', 'D', 'F'], 'D': ['C', 'E'], 'E': ['F'], 'F': []}\n",
      "C neighbors: ['B', 'D', 'F']\n"
     ]
    }
   ],
   "source": [
    "from implementation import SimpleGraph\n",
    "\n",
    "example_graph = SimpleGraph()\n",
    "example_graph.edges = {\n",
    "    'A': ['B'],\n",
    "    'B': ['C'],\n",
    "    'C': ['B', 'D', 'F'],\n",
    "    'D': ['C', 'E'],\n",
    "    'E': ['F'],\n",
    "    'F': [],\n",
    "}\n",
    "\n",
    "print(f\"graph edges: {example_graph.edges}\")\n",
    "print(f\"C neighbors: {example_graph.neighbors('C')}\")"
   ]
  },
  {
   "cell_type": "markdown",
   "id": "776eac2c-7c2b-4203-9688-dd1274f693e7",
   "metadata": {},
   "source": [
    "#### Grid Graph\n",
    "\n",
    "![grid-graph](./images/grid_graph.png)\n",
    "\n",
    "```python\n",
    "GridLocation = Tuple[int, int]\n",
    "\n",
    "class SquareGrid(Graph):\n",
    "    def __init__(self, width: int, height: int):\n",
    "        self.width = width\n",
    "        self.height = height\n",
    "        self.walls: list[GridLocation] = []\n",
    "    \n",
    "    def in_bounds(self, id: GridLocation) -> bool:\n",
    "        (x, y) = id\n",
    "        return 0 <= x < self.width and 0 <= y < self.height\n",
    "    \n",
    "    def passable(self, id: GridLocation) -> bool:\n",
    "        return id not in self.walls\n",
    "    \n",
    "    def neighbors(self, id: GridLocation) -> Iterator[GridLocation]:\n",
    "        (x, y) = id\n",
    "        neighbors = [(x+1, y), (x-1, y), (x, y-1), (x, y+1)] # E W N S\n",
    "        # see \"Ugly paths\" section for an explanation:\n",
    "        if (x + y) % 2 == 0: neighbors.reverse() # S N W E\n",
    "        results = filter(self.in_bounds, neighbors)\n",
    "        results = filter(self.passable, results)\n",
    "        return results\n",
    "```"
   ]
  },
  {
   "cell_type": "code",
   "execution_count": 9,
   "id": "e3358468-074f-4079-85e6-e782c014116b",
   "metadata": {},
   "outputs": [
    {
     "name": "stdout",
     "output_type": "stream",
     "text": [
      "DIAGRAM1_WALLS: [(3, 3), (3, 4), (3, 5), (3, 6), (3, 7), (3, 8), (3, 9), (3, 10), (3, 11), (4, 3), (4, 4), (4, 5), (4, 6), (4, 7), (4, 8), (4, 9), (4, 10), (4, 11), (13, 4), (13, 5), (13, 6), (13, 7), (13, 8), (13, 9), (13, 10), (13, 11), (13, 12), (13, 13), (13, 14), (14, 4), (14, 5), (14, 6), (14, 7), (14, 8), (14, 9), (14, 10), (14, 11), (14, 12), (14, 13), (14, 14), (21, 0), (21, 1), (21, 2), (21, 3), (21, 4), (21, 5), (21, 6), (22, 0), (22, 1), (22, 2), (22, 3), (22, 4), (22, 5), (22, 6), (23, 5), (23, 6), (24, 5), (24, 6), (25, 5), (25, 6)]\n"
     ]
    }
   ],
   "source": [
    "from implementation import SquareGrid, DIAGRAM1_WALLS\n",
    "\n",
    "grid_graph = SquareGrid(30, 15)\n",
    "print(f\"DIAGRAM1_WALLS: {sorted(DIAGRAM1_WALLS, key=lambda t: (t[0],t[1]))}\")\n",
    "grid_graph.walls = DIAGRAM1_WALLS # long list, [(21, 0), (21, 2), ...]"
   ]
  },
  {
   "cell_type": "code",
   "execution_count": 10,
   "id": "2a1c663d-fef9-45c4-b6ad-51f8a01f5951",
   "metadata": {},
   "outputs": [
    {
     "name": "stdout",
     "output_type": "stream",
     "text": [
      "__________________________________________________________________________________________\n",
      " .  .  .  .  .  .  .  .  .  .  .  .  .  .  .  .  .  .  .  .  . ###### .  .  .  .  .  .  . \n",
      " .  .  .  .  .  .  .  .  .  .  .  .  .  .  .  .  .  .  .  .  . ###### .  .  .  .  .  .  . \n",
      " .  .  .  .  .  .  .  .  .  .  .  .  .  .  .  .  .  .  .  .  . ###### .  .  .  .  .  .  . \n",
      " .  .  . ###### .  .  .  .  .  .  .  .  .  .  .  .  .  .  .  . ###### .  .  .  .  .  .  . \n",
      " .  .  . ###### .  .  .  .  .  .  .  . ###### .  .  .  .  .  . ###### .  .  .  .  .  .  . \n",
      " .  .  . ###### .  .  .  .  .  .  .  . ###### .  .  .  .  .  . ############### .  .  .  . \n",
      " .  .  . ###### .  .  .  .  .  .  .  . ###### .  .  .  .  .  . ############### .  .  .  . \n",
      " .  .  . ###### .  .  .  .  .  .  .  . ###### .  .  .  .  .  .  .  .  .  .  .  .  .  .  . \n",
      " .  .  . ###### .  .  .  .  .  .  .  . ###### .  .  .  .  .  .  .  .  .  .  .  .  .  .  . \n",
      " .  .  . ###### .  .  .  .  .  .  .  . ###### .  .  .  .  .  .  .  .  .  .  .  .  .  .  . \n",
      " .  .  . ###### .  .  .  .  .  .  .  . ###### .  .  .  .  .  .  .  .  .  .  .  .  .  .  . \n",
      " .  .  . ###### .  .  .  .  .  .  .  . ###### .  .  .  .  .  .  .  .  .  .  .  .  .  .  . \n",
      " .  .  .  .  .  .  .  .  .  .  .  .  . ###### .  .  .  .  .  .  .  .  .  .  .  .  .  .  . \n",
      " .  .  .  .  .  .  .  .  .  .  .  .  . ###### .  .  .  .  .  .  .  .  .  .  .  .  .  .  . \n",
      " .  .  .  .  .  .  .  .  .  .  .  .  . ###### .  .  .  .  .  .  .  .  .  .  .  .  .  .  . \n",
      "~~~~~~~~~~~~~~~~~~~~~~~~~~~~~~~~~~~~~~~~~~~~~~~~~~~~~~~~~~~~~~~~~~~~~~~~~~~~~~~~~~~~~~~~~~\n"
     ]
    }
   ],
   "source": [
    "from implementation import draw_grid\n",
    "\n",
    "draw_grid(grid_graph)"
   ]
  },
  {
   "cell_type": "code",
   "execution_count": 11,
   "id": "258abe82-9ac4-4e66-b1e6-cc1567a0d670",
   "metadata": {},
   "outputs": [
    {
     "data": {
      "text/plain": [
       "[(1, 3), (2, 2), (2, 4)]"
      ]
     },
     "execution_count": 11,
     "metadata": {},
     "output_type": "execute_result"
    }
   ],
   "source": [
    "grid_location = (2, 3)\n",
    "list(grid_graph.neighbors(grid_location))"
   ]
  },
  {
   "cell_type": "markdown",
   "id": "02bc7653-331d-424a-83d3-62eea5ade4ea",
   "metadata": {},
   "source": [
    "#### Graph with weights"
   ]
  },
  {
   "cell_type": "markdown",
   "id": "fb8dc39a-bd56-4b28-8920-dac68c67716f",
   "metadata": {},
   "source": [
    "```python\n",
    "# abstract class to represent a weighte graph\n",
    "class WeightedGraph(Graph):\n",
    "    def cost(self, from_id: Location, to_id: Location) -> float: pass\n",
    "\n",
    "# WeightedGraph subclass for Grids with weigths that depend only on 'to_node' node\n",
    "class GridWithWeights(SquareGrid):\n",
    "    def __init__(self, width: int, height: int):\n",
    "        super().__init__(width, height)\n",
    "        self.weights: dict[GridLocation, float] = {}\n",
    "    \n",
    "    def cost(self, from_node: GridLocation, to_node: GridLocation) -> float:\n",
    "        return self.weights.get(to_node, 1)\n",
    "```"
   ]
  },
  {
   "cell_type": "code",
   "execution_count": 12,
   "id": "7c9302ce-605c-41ec-a71b-a0d15c1622ba",
   "metadata": {},
   "outputs": [],
   "source": [
    "from implementation import GridWithWeights\n",
    "\n",
    "weighted_grid_graph = GridWithWeights(10, 10)\n",
    "weighted_grid_graph.walls = [(1, 7), (1, 8), (2, 7), (2, 8), (3, 7), (3, 8)]\n",
    "weighted_grid_graph.weights = {loc: 5 for loc in [(3, 4), (3, 5), (4, 1), (4, 2),\n",
    "                                       (4, 3), (4, 4), (4, 5), (4, 6),\n",
    "                                       (4, 7), (4, 8), (5, 1), (5, 2),\n",
    "                                       (5, 3), (5, 4), (5, 5), (5, 6),\n",
    "                                       (5, 7), (5, 8), (6, 2), (6, 3),\n",
    "                                       (6, 4), (6, 5), (6, 6), (6, 7),\n",
    "                                       (7, 3), (7, 4), (7, 5)]}\n"
   ]
  },
  {
   "cell_type": "code",
   "execution_count": 13,
   "id": "a472dd34-e26d-4107-8b39-f86a5d6f3472",
   "metadata": {},
   "outputs": [
    {
     "name": "stdout",
     "output_type": "stream",
     "text": [
      "______________________________\n",
      " .  .  .  .  .  .  .  .  .  . \n",
      " .  .  .  .  .  .  .  .  .  . \n",
      " .  .  .  .  .  .  .  .  .  . \n",
      " .  .  .  .  .  .  .  .  .  . \n",
      " .  .  .  .  .  .  .  .  .  . \n",
      " .  .  .  .  .  .  .  .  .  . \n",
      " .  .  .  .  .  .  .  .  .  . \n",
      " . ######### .  .  .  .  .  . \n",
      " . ######### .  .  .  .  .  . \n",
      " .  .  .  .  .  .  .  .  .  . \n",
      "~~~~~~~~~~~~~~~~~~~~~~~~~~~~~~\n"
     ]
    }
   ],
   "source": [
    "draw_grid(weighted_grid_graph)"
   ]
  },
  {
   "cell_type": "markdown",
   "id": "27aa78eb-da28-4ef9-85d2-845212c0c301",
   "metadata": {},
   "source": [
    "#### A\\* implementation"
   ]
  },
  {
   "cell_type": "code",
   "execution_count": 14,
   "id": "a7cbf377-2581-4ec9-9644-cbe1585f2951",
   "metadata": {},
   "outputs": [],
   "source": [
    "# source code extraced from 'implementation.a_star_search' function\n",
    "from implementation import WeightedGraph, Location, PriorityQueue, GridLocation\n",
    "\n",
    "# defining my heuristic (using manhattan distance)\n",
    "def heuristic(a: GridLocation, b: GridLocation) -> float:\n",
    "    (x1, y1) = a\n",
    "    (x2, y2) = b\n",
    "    return abs(x1 - x2) + abs(y1 - y2)\n",
    "\n",
    "def a_star_search(graph: WeightedGraph, start: Location, goal: Location):\n",
    "    frontier = PriorityQueue()\n",
    "    frontier.put(start, 0)\n",
    "    came_from: dict[Location, Optional[Location]] = {}\n",
    "    cost_so_far: dict[Location, float] = {}\n",
    "    came_from[start] = None\n",
    "    cost_so_far[start] = 0\n",
    "    \n",
    "    while not frontier.empty():\n",
    "        current: Location = frontier.get()\n",
    "        \n",
    "        if current == goal:\n",
    "            break\n",
    "        \n",
    "        for next in graph.neighbors(current):\n",
    "            new_cost = cost_so_far[current] + graph.cost(current, next)\n",
    "            if next not in cost_so_far or new_cost < cost_so_far[next]:\n",
    "                cost_so_far[next] = new_cost\n",
    "                priority = new_cost + heuristic(next, goal)\n",
    "                frontier.put(next, priority)\n",
    "                came_from[next] = current\n",
    "    \n",
    "    return came_from, cost_so_far"
   ]
  },
  {
   "cell_type": "code",
   "execution_count": 15,
   "id": "aa4b24a8-9789-4ed1-a9c2-465333912976",
   "metadata": {},
   "outputs": [],
   "source": [
    "start, goal = (1, 4), (8, 3)\n",
    "\n",
    "# searching the shortest path from start to goal using A* algorithm\n",
    "came_from, cost_so_far = a_star_search(weighted_grid_graph, start, goal)"
   ]
  },
  {
   "cell_type": "code",
   "execution_count": 16,
   "id": "3749fafd-80f5-4d46-8d33-11d6ca1fa392",
   "metadata": {},
   "outputs": [
    {
     "name": "stdout",
     "output_type": "stream",
     "text": [
      "______________________________\n",
      " v  v  v  v  <  <  <  <  <  < \n",
      " v  v  v  v  <  ^  ^  <  <  < \n",
      " v  v  v  v  <  <  ^  ^  <  < \n",
      " >  v  <  <  <  <  .  ^  Z  . \n",
      " >  A  <  <  <  .  .  .  .  . \n",
      " ^  ^  ^  <  <  .  .  .  .  . \n",
      " ^  ^  ^  <  <  .  .  .  .  . \n",
      " ^ ######### .  .  .  .  .  . \n",
      " . ######### .  .  .  .  .  . \n",
      " .  .  .  .  .  .  .  .  .  . \n",
      "~~~~~~~~~~~~~~~~~~~~~~~~~~~~~~\n"
     ]
    }
   ],
   "source": [
    "# drawing the graph\n",
    "draw_grid(weighted_grid_graph, point_to=came_from, start=start, goal=goal)"
   ]
  },
  {
   "cell_type": "code",
   "execution_count": 17,
   "id": "3f0bac72-e0a6-40cf-88e7-334861d91d72",
   "metadata": {},
   "outputs": [
    {
     "name": "stdout",
     "output_type": "stream",
     "text": [
      "______________________________\n",
      " .  .  .  @  @  @  @  .  .  . \n",
      " .  .  .  @  .  .  @  @  .  . \n",
      " .  .  .  @  .  .  .  @  @  . \n",
      " .  @  @  @  .  .  .  .  @  . \n",
      " .  @  .  .  .  .  .  .  .  . \n",
      " .  .  .  .  .  .  .  .  .  . \n",
      " .  .  .  .  .  .  .  .  .  . \n",
      " . ######### .  .  .  .  .  . \n",
      " . ######### .  .  .  .  .  . \n",
      " .  .  .  .  .  .  .  .  .  . \n",
      "~~~~~~~~~~~~~~~~~~~~~~~~~~~~~~\n"
     ]
    }
   ],
   "source": [
    "from implementation import reconstruct_path\n",
    "\n",
    "# drawing the found path (reconstructing the path)\n",
    "draw_grid(weighted_grid_graph, path=reconstruct_path(came_from, start=start, goal=goal))"
   ]
  },
  {
   "cell_type": "code",
   "execution_count": 18,
   "id": "a7f5d8a6-5dc3-4b20-8e27-225dfe5f7703",
   "metadata": {},
   "outputs": [
    {
     "name": "stdout",
     "output_type": "stream",
     "text": [
      "______________________________\n",
      " 5  4  5  6  7  8  9  10 11 12\n",
      " 4  3  4  5  10 13 10 11 12 13\n",
      " 3  2  3  4  9  14 15 12 13 14\n",
      " 2  1  2  3  8  13 .  17 14 . \n",
      " 1  A  1  6  11 .  .  .  .  . \n",
      " 2  1  2  7  12 .  .  .  .  . \n",
      " 3  2  3  4  9  .  .  .  .  . \n",
      " 4 ######### .  .  .  .  .  . \n",
      " . ######### .  .  .  .  .  . \n",
      " .  .  .  .  .  .  .  .  .  . \n",
      "~~~~~~~~~~~~~~~~~~~~~~~~~~~~~~\n"
     ]
    }
   ],
   "source": [
    "draw_grid(weighted_grid_graph, number=cost_so_far, start=start)"
   ]
  },
  {
   "cell_type": "markdown",
   "id": "2ac1d37a-863f-491f-a9cd-21119804f952",
   "metadata": {},
   "source": [
    "## Tarea 2 - A\\*"
   ]
  },
  {
   "cell_type": "markdown",
   "id": "29c60e32-241d-44fa-8061-af74314e41d5",
   "metadata": {},
   "source": [
    "### Enunciado\n",
    "![tarea2-enunciado](./images/enunciado.jpeg)"
   ]
  },
  {
   "cell_type": "markdown",
   "id": "91ded4b0-2030-4199-8981-be548785d99b",
   "metadata": {},
   "source": [
    "### Graph\n",
    "![tarea2-graph](./images/graph.jpeg)\n",
    "\n",
    "---\n",
    "![tarea2-graph-with-numeration](./images/graph_with_numeration.png)\n",
    "\n",
    "![tarea2 - path](./images/graph_path.png)\n",
    "\n",
    "---\n",
    "##### Credits\n",
    "- Joel Wilson"
   ]
  },
  {
   "cell_type": "code",
   "execution_count": 19,
   "id": "209905fd-fa5b-42c7-a3c3-120a542cba1b",
   "metadata": {},
   "outputs": [
    {
     "name": "stdout",
     "output_type": "stream",
     "text": [
      "__________________\n",
      " .  .  .  .  .  . \n",
      " .  . ### .  .  . \n",
      " .  . ### .  .  . \n",
      "###### .  . ### . \n",
      " .  .  .  .  .  . \n",
      " .  .  .  .  .  . \n",
      "~~~~~~~~~~~~~~~~~~\n"
     ]
    }
   ],
   "source": [
    "# In this case the graph hasn't weight (So we are going to consider that all the nodes have an uniform weight of 1)\n",
    "#\n",
    "# NOTE: \n",
    "# - For A* and dijkstra algorithms, we must pass as input an weighted graph\n",
    "\n",
    "from implementation import GridWithWeights, draw_grid\n",
    "\n",
    "#graph = GridWithWeights()\n",
    "graph = GridWithWeights(6, 6)\n",
    "\n",
    "# '###' represent a block\n",
    "graph.walls = [\n",
    "    # (x, y): starting from left upper corner\n",
    "    (0, 3), (1, 3), (4, 3),\n",
    "    (2, 1), (2, 2)\n",
    "]\n",
    "\n",
    "draw_grid(graph)"
   ]
  },
  {
   "cell_type": "code",
   "execution_count": 20,
   "id": "6bebea28-98e9-40e3-be29-ecb77dd48c04",
   "metadata": {},
   "outputs": [],
   "source": [
    "from implementation import GridLocation\n",
    "from math import sqrt\n",
    "\n",
    "# defining my heuristic (using manhattan distance)\n",
    "def heuristic(a: GridLocation, b: GridLocation) -> float:\n",
    "    (x1, y1) = a\n",
    "    (x2, y2) = b\n",
    "    return abs(x1 - x2) + abs(y1 - y2)"
   ]
  },
  {
   "cell_type": "code",
   "execution_count": 21,
   "id": "902c45a2-016c-4a62-bf03-6f4c57ccdbdc",
   "metadata": {},
   "outputs": [],
   "source": [
    "from implementation import a_star_search\n",
    "\n",
    "start, goal = (0, 5), (0, 1)\n",
    "\n",
    "# searching the shortest path from start to goal using A* algorithm\n",
    "came_from, cost_so_far = a_star_search(graph, start, goal)"
   ]
  },
  {
   "cell_type": "code",
   "execution_count": 22,
   "id": "4e2bded4-cd2f-4344-83a1-b5676d74ca1c",
   "metadata": {},
   "outputs": [
    {
     "name": "stdout",
     "output_type": "stream",
     "text": [
      "__________________\n",
      " @  @  @  @  .  . \n",
      " @  . ### @  .  . \n",
      " .  . ### @  .  . \n",
      "###### @  @ ### . \n",
      " @  @  @  .  .  . \n",
      " @  .  .  .  .  . \n",
      "~~~~~~~~~~~~~~~~~~\n"
     ]
    }
   ],
   "source": [
    "from implementation import reconstruct_path\n",
    "\n",
    "# drawing the found path (reconstructing the path)\n",
    "draw_grid(graph, path=reconstruct_path(came_from, start=start, goal=goal))"
   ]
  },
  {
   "cell_type": "code",
   "execution_count": 23,
   "id": "a4e9d9c3-a825-4ea9-9e41-22f3a82d7813",
   "metadata": {},
   "outputs": [
    {
     "name": "stdout",
     "output_type": "stream",
     "text": [
      "__________________\n",
      " 11 10 9  8  9  . \n",
      " 12 11### 7  8  . \n",
      " .  . ### 6  7  . \n",
      "###### 4  5 ### . \n",
      " 1  2  3  4  5  . \n",
      " A  1  2  3  4  . \n",
      "~~~~~~~~~~~~~~~~~~\n"
     ]
    }
   ],
   "source": [
    "draw_grid(graph, number=cost_so_far, start=start)"
   ]
  },
  {
   "cell_type": "markdown",
   "id": "0941024f-a272-437a-8f69-99f0003c2861",
   "metadata": {},
   "source": [
    "### What is happening (WE ARE NOT MOVING IN DIAGONALS!!)\n",
    "\n",
    "Checking the source code of **implementation** scripts. We notice that the method `SquareGrid.neighbors` only return neighbors on `North, West, South and East` directions. But in our case we can do diagonal movements.\n",
    "\n",
    "```python\n",
    "class SquareGrid:\n",
    "    ...\n",
    "    def neighbors(self, id: GridLocation) -> Iterator[GridLocation]:\n",
    "        (x, y) = id\n",
    "        neighbors = [(x+1, y), (x-1, y), (x, y-1), (x, y+1)] # E W N S\n",
    "        # see \"Ugly paths\" section for an explanation:\n",
    "        if (x + y) % 2 == 0: neighbors.reverse() # S N W E\n",
    "        results = filter(self.in_bounds, neighbors)\n",
    "        results = filter(self.passable, results)\n",
    "        return results\n",
    "\n",
    "```\n",
    "\n",
    "Also the class `GridWithWeights` dont't consider the cost of diagonal movements.\n",
    "\n",
    "```python\n",
    "class GridWithWeights(SquareGrid):\n",
    "    ...\n",
    "    def cost(self, from_node: GridLocation, to_node: GridLocation) -> float:\n",
    "        return self.weights.get(to_node, 1)\n",
    "```\n",
    "\n",
    "Modifing them:\n",
    "\n",
    "* **SquareGrid** class\n",
    "\n",
    "```python\n",
    "class MySquareGrid(SquareGrid):\n",
    "    def neighbors(self, id: GridLocation) -> Iterator[GridLocation]:\n",
    "        (x, y) = id\n",
    "        neighbors = [\n",
    "            (x+1, y), (x-1, y), (x, y-1), (x, y+1),  # E W S N\n",
    "            (x+1, y+1), (x+1, y-1), (x-1, y+1), (x-1, y-1), # diagonal movements\n",
    "        ]\n",
    "        # see \"Ugly paths\" section for an explanation:\n",
    "        if (x + y) % 2 == 0: neighbors.reverse() # S N W E\n",
    "        results = filter(self.in_bounds, neighbors)\n",
    "        results = filter(self.passable, results)\n",
    "        return results\n",
    "```\n",
    "\n",
    "* **WeightedGraph** class\n",
    "```python\n",
    "from math import sqrt\n",
    "\n",
    "class MyWeightedGraph(MySquareGrid):\n",
    "    def __init__(self, width: int, height: int):\n",
    "        super().__init__(width, height)\n",
    "        self.weights: dict[GridLocation, float] = {}\n",
    "\n",
    "    def cost(self, from_node: GridLocation, to_node: GridLocation) -> float:\n",
    "        x0, y0 = from_node\n",
    "        x1, y1 = to_node\n",
    "        return sqrt((x1 - x0)**2 + (y1 - y0)**2)\n",
    "```"
   ]
  },
  {
   "cell_type": "code",
   "execution_count": 24,
   "id": "96544e84-5e63-46a8-a8d6-90ce3f2b87b5",
   "metadata": {},
   "outputs": [],
   "source": [
    "from implementation import SquareGrid, GridLocation\n",
    "from typing import Protocol, Iterator, Tuple, TypeVar, Optional"
   ]
  },
  {
   "cell_type": "code",
   "execution_count": 25,
   "id": "cf1ef666-48a3-4f15-a5ac-6907abcb32ea",
   "metadata": {},
   "outputs": [],
   "source": [
    "from math import sqrt\n",
    "\n",
    "class MySquareGrid(SquareGrid):\n",
    "    def neighbors(self, id: GridLocation) -> Iterator[GridLocation]:\n",
    "        (x, y) = id\n",
    "        neighbors = [\n",
    "            (x+1, y), (x-1, y), (x, y-1), (x, y+1),  # E W S N\n",
    "            (x+1, y+1), (x+1, y-1), (x-1, y-1), (x-1, y+1), # diagonal movements\n",
    "        ]\n",
    "        # see \"Ugly paths\" section for an explanation:\n",
    "        if (x + y) % 2 == 0: neighbors.reverse() # S N W E\n",
    "        results = filter(self.in_bounds, neighbors)\n",
    "        results = filter(self.passable, results)\n",
    "        return results\n",
    "\n",
    "class MyGridWithWeights(MySquareGrid):\n",
    "    def __init__(self, width: int, height: int):\n",
    "        super().__init__(width, height)\n",
    "        self.weights: dict[GridLocation, float] = {}\n",
    "\n",
    "    def cost(self, from_node: GridLocation, to_node: GridLocation) -> float:\n",
    "        x0, y0 = from_node\n",
    "        x1, y1 = to_node\n",
    "        return sqrt((x1 - x0)**2 + (y1 - y0)**2)\n"
   ]
  },
  {
   "cell_type": "code",
   "execution_count": 26,
   "id": "33d3b311-fa7b-4181-b6ef-34357160f5ef",
   "metadata": {},
   "outputs": [
    {
     "name": "stdout",
     "output_type": "stream",
     "text": [
      "__________________\n",
      " .  .  .  .  .  . \n",
      " .  . ### .  .  . \n",
      " .  . ### .  .  . \n",
      "###### .  . ### . \n",
      " .  .  .  .  .  . \n",
      " .  .  .  .  .  . \n",
      "~~~~~~~~~~~~~~~~~~\n"
     ]
    }
   ],
   "source": [
    "graph = MyGridWithWeights(6, 6)\n",
    "\n",
    "# '###' represent a block\n",
    "graph.walls = [\n",
    "    # (x, y): starting from left upper corner\n",
    "    (0, 3), (1, 3), (4, 3),\n",
    "    (2, 1), (2, 2)\n",
    "]\n",
    "\n",
    "draw_grid(graph)"
   ]
  },
  {
   "cell_type": "code",
   "execution_count": 27,
   "id": "9c2fa2de-f153-43ff-b77d-2da77f29d996",
   "metadata": {},
   "outputs": [],
   "source": [
    "from implementation import a_star_search\n",
    "\n",
    "start, goal = (0, 5), (0, 1)\n",
    "\n",
    "# searching the shortest path from start to goal using A* algorithm\n",
    "came_from, cost_so_far = a_star_search(graph, start, goal)"
   ]
  },
  {
   "cell_type": "code",
   "execution_count": 28,
   "id": "c614df8e-a6e7-465b-8081-c6205a466917",
   "metadata": {},
   "outputs": [
    {
     "name": "stdout",
     "output_type": "stream",
     "text": [
      "__________________\n",
      " .  .  .  .  .  . \n",
      " @  . ### .  .  . \n",
      " .  @ ### .  .  . \n",
      "###### @  . ### . \n",
      " .  @  .  .  .  . \n",
      " @  .  .  .  .  . \n",
      "~~~~~~~~~~~~~~~~~~\n"
     ]
    }
   ],
   "source": [
    "from implementation import reconstruct_path\n",
    "\n",
    "# drawing the found path (reconstructing the path)\n",
    "draw_grid(graph, path=reconstruct_path(came_from, start=start, goal=goal))"
   ]
  },
  {
   "cell_type": "code",
   "execution_count": 73,
   "id": "ed0a189d-59f9-4807-afc7-869df7c08c8a",
   "metadata": {},
   "outputs": [
    {
     "name": "stdout",
     "output_type": "stream",
     "text": [
      "__________________\n",
      " .  .  .  .  .  . \n",
      " 5  5 ### .  .  . \n",
      " 5  4 ### 4  .  . \n",
      "###### 2  3 ### . \n",
      " 1  1  2  4  .  . \n",
      " A  1  2  .  .  . \n",
      "~~~~~~~~~~~~~~~~~~\n"
     ]
    }
   ],
   "source": [
    "draw_grid(graph, number=cost_so_far, start=start)"
   ]
  },
  {
   "cell_type": "markdown",
   "id": "19cd261a-89a9-49b6-bdeb-e4a923e357b3",
   "metadata": {},
   "source": [
    "#### UPS! Our algorithm is jumping walls\n",
    "\n",
    "Let's restict the diagonal movements."
   ]
  },
  {
   "cell_type": "code",
   "execution_count": 29,
   "id": "b0a880be-4994-4451-8edf-a87d0ae52f73",
   "metadata": {},
   "outputs": [],
   "source": [
    "class MySquareGridV2(SquareGrid):\n",
    "    def neighbors(self, id: GridLocation) -> Iterator[GridLocation]:\n",
    "        (x, y) = id\n",
    "        neighbors = [\n",
    "            (x+1, y), (x-1, y), (x, y-1), (x, y+1),  # E W S N\n",
    "            #(x+1, y+1), (x+1, y-1), (x+1, y-1), (x-1, y-1), # diagonal movements\n",
    "        ]\n",
    "\n",
    "        if not ((x-1, y) in self.walls and (x, y+1) in self.walls):\n",
    "            neighbors.append((x-1, y+1)) # NW\n",
    "\n",
    "        if not ((x-1, y) in self.walls and (x, y-1) in self.walls):\n",
    "            neighbors.append((x-1, y-1)) # SW\n",
    "            \n",
    "        if not ((x, y-1) in self.walls and (x+1, y) in self.walls):\n",
    "            neighbors.append((x+1, y-1)) # SE\n",
    "            \n",
    "        if not ((x, y+1) in self.walls and (x+1, y) in self.walls):\n",
    "            neighbors.append((x+1, y+1)) # NE\n",
    "            \n",
    "        # see \"Ugly paths\" section for an explanation:\n",
    "        if (x + y) % 2 == 0: neighbors.reverse() # S N W E\n",
    "        results = filter(self.in_bounds, neighbors)\n",
    "        results = filter(self.passable, results)\n",
    "        return results\n",
    "\n",
    "class MyGridWithWeightsV2(MySquareGridV2):\n",
    "    def __init__(self, width: int, height: int):\n",
    "        super().__init__(width, height)\n",
    "        self.weights: dict[GridLocation, float] = {}\n",
    "\n",
    "    def cost(self, from_node: GridLocation, to_node: GridLocation) -> float:\n",
    "        x0, y0 = from_node\n",
    "        x1, y1 = to_node\n",
    "        return sqrt((x1 - x0)**2 + (y1 - y0)**2)"
   ]
  },
  {
   "cell_type": "code",
   "execution_count": 30,
   "id": "ee56c03c-8b36-49cb-af33-a67a6ba038b2",
   "metadata": {},
   "outputs": [
    {
     "name": "stdout",
     "output_type": "stream",
     "text": [
      "__________________\n",
      " .  .  .  .  .  . \n",
      " .  . ### .  .  . \n",
      " .  . ### .  .  . \n",
      "###### .  . ### . \n",
      " .  .  .  .  .  . \n",
      " .  .  .  .  .  . \n",
      "~~~~~~~~~~~~~~~~~~\n"
     ]
    }
   ],
   "source": [
    "graph = MyGridWithWeightsV2(6, 6)\n",
    "\n",
    "# '###' represent a block\n",
    "graph.walls = [\n",
    "    # (x, y): starting from left upper corner\n",
    "    (0, 3), (1, 3), (4, 3),\n",
    "    (2, 1), (2, 2)\n",
    "]\n",
    "\n",
    "draw_grid(graph)"
   ]
  },
  {
   "cell_type": "code",
   "execution_count": 31,
   "id": "e414cdd1-3e4c-4256-8f16-dff2e3614777",
   "metadata": {},
   "outputs": [],
   "source": [
    "from implementation import a_star_search\n",
    "\n",
    "start, goal = (0, 5), (0, 1)\n",
    "\n",
    "# searching the shortest path from start to goal using A* algorithm\n",
    "came_from, cost_so_far = a_star_search(graph, start, goal)"
   ]
  },
  {
   "cell_type": "code",
   "execution_count": 32,
   "id": "086bba5e-6774-4198-8253-ceabf98a6af4",
   "metadata": {},
   "outputs": [
    {
     "name": "stdout",
     "output_type": "stream",
     "text": [
      "__________________\n",
      " .  .  @  .  .  . \n",
      " @  @ ### @  .  . \n",
      " .  . ### @  .  . \n",
      "###### @  . ### . \n",
      " .  @  .  .  .  . \n",
      " @  .  .  .  .  . \n",
      "~~~~~~~~~~~~~~~~~~\n"
     ]
    }
   ],
   "source": [
    "from implementation import reconstruct_path\n",
    "\n",
    "# drawing the found path (reconstructing the path)\n",
    "draw_grid(graph, path=reconstruct_path(came_from, start=start, goal=goal))"
   ]
  },
  {
   "cell_type": "code",
   "execution_count": 33,
   "id": "89615fdc-7a99-44be-9ee2-735379542606",
   "metadata": {},
   "outputs": [
    {
     "name": "stdout",
     "output_type": "stream",
     "text": [
      "__________________\n",
      " 9  7  6  6  6  . \n",
      " 9  8 ### 5  5  . \n",
      " 9  9 ### 4  5  . \n",
      "###### 2  3 ### . \n",
      " 1  1  2  3  4  . \n",
      " A  1  2  3  4  . \n",
      "~~~~~~~~~~~~~~~~~~\n"
     ]
    }
   ],
   "source": [
    "draw_grid(graph, number=cost_so_far, start=start)"
   ]
  }
 ],
 "metadata": {
  "kernelspec": {
   "display_name": "Python 3 (ipykernel)",
   "language": "python",
   "name": "python3"
  },
  "language_info": {
   "codemirror_mode": {
    "name": "ipython",
    "version": 3
   },
   "file_extension": ".py",
   "mimetype": "text/x-python",
   "name": "python",
   "nbconvert_exporter": "python",
   "pygments_lexer": "ipython3",
   "version": "3.11.5"
  }
 },
 "nbformat": 4,
 "nbformat_minor": 5
}
