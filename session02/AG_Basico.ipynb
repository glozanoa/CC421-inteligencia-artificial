{
 "cells": [
  {
   "cell_type": "markdown",
   "metadata": {
    "id": "nc5GvshP-GIN"
   },
   "source": [
    "# Ejemplo: Aplicacion de un Algoritmo Genético (AG) básico#\n",
    "\n"
   ]
  },
  {
   "cell_type": "code",
   "execution_count": null,
   "metadata": {
    "id": "PkbgUdS-5epE"
   },
   "outputs": [],
   "source": [
    "# Importando librerias\n",
    "import numpy as np\n",
    "import matplotlib.pyplot as plt"
   ]
  },
  {
   "cell_type": "code",
   "execution_count": null,
   "metadata": {
    "id": "blifaSZQ-ajU"
   },
   "outputs": [],
   "source": [
    "# Definiendo los hipérparametros\n",
    "DNA_SIZE = 30            # longitud del ADN (cromosoma)\n",
    "POP_SIZE = 50            # tamaño de la población inicial (Población constante durante las iteraciones)\n",
    "CROSS_RATE = 0.8         # Probabilidad de apareamiento (Cruce de ADN)\n",
    "MUTATION_RATE = 0.1      # Probabilidad de mutación\n",
    "N_GENERATIONS = 100       # Generaciones (Iteraciones)\n",
    "X_BOUND = [0, 50]         # Valor mínimo y máximo de X"
   ]
  },
  {
   "cell_type": "code",
   "execution_count": null,
   "metadata": {
    "colab": {
     "base_uri": "https://localhost:8080/",
     "height": 447
    },
    "id": "igtjaI58_aDy",
    "outputId": "b91eba3c-73b6-4ba1-e5c5-14ac0e5aef38"
   },
   "outputs": [],
   "source": [
    "# Función a optimizar (objetivo hallar el máximo global)\n",
    "def F(x): return np.sin(10*x)*x + np.cos(2*x)*x\n",
    "\n",
    "x = np.linspace(*X_BOUND, 200)\n",
    "plt.plot(x, F(x))\n",
    "print([x[np.argmax(F(x))], np.amax(F(x))])\n"
   ]
  },
  {
   "cell_type": "markdown",
   "metadata": {
    "id": "FzynRGtbE6zQ"
   },
   "source": [
    "Algoritmo Genético básico"
   ]
  },
  {
   "cell_type": "code",
   "execution_count": null,
   "metadata": {
    "id": "wwy16vU7BHyK"
   },
   "outputs": [],
   "source": [
    "# Aptitud diferente de cero para la selección\n",
    "def get_fitness(pred): return pred + 1e-3 - np.min(pred) # pred = F(translateDNA(pop))\n",
    "\n",
    "# Convertir el ADN binario a decimal y normalizarlo en el rango [0, 50]\n",
    "def translateDNA(pop): return pop.dot(2 ** np.arange(DNA_SIZE)[::-1]) / float(2**DNA_SIZE-1) * X_BOUND[1]\n",
    "\n",
    "# Selección de la población (selección natural del más apto)\n",
    "def select(pop, fitness):\n",
    "    import pdb; pdb.set_trace()\n",
    "    idx = np.random.choice(np.arange(POP_SIZE), size=POP_SIZE, replace=True,\n",
    "                           p=fitness/fitness.sum())\n",
    "    return pop[idx]\n",
    "\n",
    "# proceso de apareamiento (Cruzamiento de genes)\n",
    "def crossover(parent, pop):\n",
    "    if np.random.rand() < CROSS_RATE:\n",
    "        # parent = [1, 0, 1, 1]\n",
    "        # pop[i_] = [0, 0, 1, 0]\n",
    "        # cross = [0, 0, 1, 1] -> [False, True, False, True] (RANDOM)\n",
    "        # parent[cross] == [, 0, , 1]\n",
    "        # pop[i_, cross] == [, 0, , , 0]\n",
    "        # parent[cross] = pop[i_, cross]\n",
    "        # parent = [1, 0, 1 , 0] ([1, 0, 1, 1])\n",
    "        i_ = np.random.randint(0, POP_SIZE, size=1)                             # seleccion de otro individuo de la poblacion\n",
    "        cross_points = np.random.randint(0, 1, size=DNA_SIZE).astype(np.bool_)   # Seleccion de los puntos de cruzamiento\n",
    "        parent[cross_points] = pop[i_, cross_points]                            # Apareamiento (Produccion de un hijo)\n",
    "    return parent\n",
    "\n",
    "# proceso de mutación\n",
    "def mutate(child):\n",
    "    for point in range(DNA_SIZE): # range(4) = [0, 1, 2, 3]\n",
    "        if np.random.rand() < MUTATION_RATE:\n",
    "            child[point] = 1 if child[point] == 0 else 0\n",
    "    return child"
   ]
  },
  {
   "cell_type": "code",
   "execution_count": null,
   "metadata": {},
   "outputs": [],
   "source": [
    "2 ** np.arange(DNA_SIZE-1)[::-1]"
   ]
  },
  {
   "cell_type": "code",
   "execution_count": null,
   "metadata": {},
   "outputs": [],
   "source": [
    "t = np.array([1, 1, 1, 1, 1, 0, 1, 1, 0, 0, 1, 0, 1, 1, 0, 1, 1, 1, 1, 1, 0, 0, 1, 1, 0, 0, 1, 0, 1, 0])"
   ]
  },
  {
   "cell_type": "code",
   "execution_count": null,
   "metadata": {},
   "outputs": [],
   "source": [
    "# x -> numeric value -> escalate to function domain range\n",
    "translateDNA(t)"
   ]
  },
  {
   "cell_type": "code",
   "execution_count": null,
   "metadata": {},
   "outputs": [],
   "source": [
    "mutate(t)"
   ]
  },
  {
   "cell_type": "markdown",
   "metadata": {
    "id": "azVGqSK0FBvo"
   },
   "source": [
    "Evaluacion y aplicacion del AG en el problema"
   ]
  },
  {
   "cell_type": "code",
   "execution_count": null,
   "metadata": {
    "colab": {
     "base_uri": "https://localhost:8080/"
    },
    "id": "7b1YmQUPBjRa",
    "outputId": "3a574787-0a1c-47c2-d7f3-4ea8af5455ad"
   },
   "outputs": [],
   "source": [
    "# Generando la poblacion inicial\n",
    "pop = np.random.randint(2, size=(POP_SIZE, DNA_SIZE))\n",
    "print(pop)\n",
    "print(translateDNA(pop))"
   ]
  },
  {
   "cell_type": "code",
   "execution_count": null,
   "metadata": {},
   "outputs": [],
   "source": [
    "pop = [1, 2, 3, 4, 5]\n",
    "#selec\n",
    "pop = [2, 2, 4, 3, 1]\n",
    "\n"
   ]
  },
  {
   "cell_type": "code",
   "execution_count": null,
   "metadata": {
    "colab": {
     "base_uri": "https://localhost:8080/",
     "height": 1000
    },
    "id": "BaS8kj8nFZkm",
    "outputId": "3e1b7a9a-7ed3-4b73-d573-ad030045ad80"
   },
   "outputs": [],
   "source": [
    "PLOT_EVERY_GENERATIONS=100\n",
    "\n",
    "for i in range(N_GENERATIONS):\n",
    "    #import pdb; pdb.set_trace()\n",
    "    F_values = F(translateDNA(pop))    # compute function value by extracting DNA\n",
    "\n",
    "    if i % PLOT_EVERY_GENERATIONS == 0 or i == N_GENERATIONS-1: # plot every PLOT_EVERY_GENERATIONS generations\n",
    "        # Plotear\n",
    "        plt.plot(x, F(x), color='c')\n",
    "        if 'sca' in globals(): sca.remove()\n",
    "        sca = plt.scatter(translateDNA(pop), F_values, s=200, lw=0, c='red', alpha=0.5); plt.pause(0.05)\n",
    "\n",
    "    # Evolucion del AG\n",
    "    fitness = get_fitness(F_values)\n",
    "    print(f\"(Generation {i}) Most fitted DNA: \", pop[np.argmax(fitness), :])\n",
    "    pop = select(pop, fitness)\n",
    "    pop_copy = pop.copy()\n",
    "    for parent in pop:\n",
    "        child = crossover(parent, pop_copy)\n",
    "        child = mutate(child)\n",
    "        parent[:] = child       # Reemplazando al padre por el hijo\n",
    "\n",
    "plt.ioff(); plt.show()"
   ]
  },
  {
   "cell_type": "markdown",
   "metadata": {},
   "source": [
    "# Tarea - PC 2\n",
    "\n",
    "`objective function`: https://www.sfu.ca/~ssurjano/ackley.html\n",
    "\n",
    "### Resources\n",
    "* [Lecture 18 (Evolutionary Algorithms) - Video](https://www.youtube.com/watch?v=3-NiZPbkr7A)\n",
    "* [lecture-13-learning-genetic-algorithms](https://ocw.mit.edu/courses/6-034-artificial-intelligence-fall-2010/resources/lecture-13-learning-genetic-algorithms/)\n",
    "* [An Introduction to Genetic Algorithms](https://direct.mit.edu/books/book/4675/An-Introduction-to-Genetic-Algorithms)\n",
    "* [Introduction to optimization with Genetic Algorithm](https://towardsdatascience.com/introduction-to-optimization-with-genetic-algorithm-2f5001d9964b)"
   ]
  },
  {
   "cell_type": "code",
   "execution_count": null,
   "metadata": {},
   "outputs": [],
   "source": [
    "# Definiendo los hipérparametros\n",
    "DNA_SIZE = 30            # longitud del ADN (cromosoma)\n",
    "POP_SIZE = 20            # tamaño de la población inicial (Población constante durante las iteraciones)\n",
    "CROSS_RATE = 0.8         # Probabilidad de apareamiento (Cruce de ADN)\n",
    "MUTATION_RATE = 0.1      # Probabilidad de mutación\n",
    "N_GENERATIONS = 50       # Generaciones (Iteraciones)"
   ]
  },
  {
   "cell_type": "markdown",
   "metadata": {},
   "source": [
    "### Defining Ackley Function\n",
    "`source`: https://www.sfu.ca/~ssurjano/ackley.html"
   ]
  },
  {
   "cell_type": "code",
   "execution_count": null,
   "metadata": {},
   "outputs": [],
   "source": [
    "# Función a optimizar (objetivo hallar el máximo global)\n",
    "\n",
    "a = 20\n",
    "b = 0.2\n",
    "c = 2*np.pi\n",
    "d = 2\n",
    "X_BOUND = [-32.768, 32.768]         # Valor mínimo y máximo de X\n",
    "\n",
    "F = lambda X, Y: -a*np.exp(-b*np.sqrt((X**2 + Y**2)/d)) - np.exp((np.cos(c*X) + np.cos(c*Y))/d) + a + np.exp(1)"
   ]
  },
  {
   "cell_type": "markdown",
   "metadata": {},
   "source": [
    "### Plotting Ackley function"
   ]
  },
  {
   "cell_type": "code",
   "execution_count": null,
   "metadata": {},
   "outputs": [],
   "source": [
    "def plot_ackley(ax = None):\n",
    "    if ax is None:\n",
    "        ax = plt.figure().add_subplot(projection='3d')\n",
    "    \n",
    "    t = np.linspace(*X_BOUND, 200)\n",
    "    \n",
    "    X, Y = np.meshgrid(t, t)\n",
    "    Z = F(X, Y)\n",
    "    \n",
    "    ax.plot_surface(X, Y, Z)\n",
    "    return ax\n",
    "\n",
    "plot_ackley()\n",
    "plt.show()"
   ]
  },
  {
   "cell_type": "code",
   "execution_count": null,
   "metadata": {},
   "outputs": [],
   "source": [
    "# Generando la poblacion inicial\n",
    "pop = np.random.randint(2, size=(POP_SIZE, DNA_SIZE, d))\n",
    "print(f\"pop.shape: {pop.shape}\")"
   ]
  },
  {
   "cell_type": "code",
   "execution_count": null,
   "metadata": {},
   "outputs": [],
   "source": [
    "# selecting a chromosome\n",
    "s = pop[0, :]\n",
    "print(s.shape)\n",
    "s.T"
   ]
  },
  {
   "cell_type": "markdown",
   "metadata": {},
   "source": [
    "### Defining functions (fitness, translateDNA, crossover, select, mutate)"
   ]
  },
  {
   "cell_type": "code",
   "execution_count": null,
   "metadata": {},
   "outputs": [],
   "source": [
    "# Aptitud diferente de cero para la selección\n",
    "def get_fitness(pred): # pred = F(x, y)\n",
    "    # I want (x, y) that F(x, y) are close to 0, so if t = F(x, y) is a value close to 0, then 1/t is big\n",
    "    # to avoid overflow (1/0) we are going to add 1e-3 to t\n",
    "    return 1/(pred + 1e-3) \n",
    "\n",
    "# Convertir el ADN binario a decimal y normalizarlo en el rango [X_BOUND[0], X_BOUND[1]]\n",
    "def translateDNA(pop, dna_size: int = DNA_SIZE):\n",
    "    \"\"\"\n",
    "    pop: population\n",
    "    \"\"\"\n",
    "    #import pdb; pdb.set_trace()\n",
    "    x = pop[:, :, 0].dot(2 ** np.arange(dna_size)[::-1]) / float(2**dna_size-1) # range [0, 1]\n",
    "    y = pop[:, :, 1].dot(2 ** np.arange(dna_size)[::-1]) / float(2**dna_size-1)\n",
    "\n",
    "    x = x*(X_BOUND[1] - X_BOUND[0]) + X_BOUND[0]\n",
    "    y = y*(X_BOUND[1] - X_BOUND[0]) + X_BOUND[0]\n",
    "    \n",
    "    return x, y\n",
    "    \n",
    "\n",
    "# Selección de la población (selección natural del más apto)\n",
    "def select(pop, fitness, pop_size: int = POP_SIZE):\n",
    "    idx = np.random.choice(np.arange(pop_size), size=pop_size, replace=True,\n",
    "                           p=fitness/fitness.sum())\n",
    "\n",
    "    \n",
    "    return pop[idx]\n",
    "\n",
    "\n",
    "# proceso de apareamiento (Cruzamiento de genes)\n",
    "def crossover(parent, pop, *, pop_size: int = POP_SIZE, dna_size: int = DNA_SIZE, verbose: bool = False):\n",
    "    if np.random.rand() < CROSS_RATE:\n",
    "        #import pdb; pdb.set_trace()\n",
    "        i_ = np.random.randint(0, pop_size, size=1)                             # seleccion de otro individuo de la poblacion\n",
    "        cross_points = np.random.randint(0, 1, size=(dna_size, d)).astype(np.bool_)   # Seleccion de los puntos de cruzamiento\n",
    "        if verbose:\n",
    "            print(f\"=== cross_points === \\n{cross_points}\")\n",
    "            print(f\"\\n===couple === \\nparent:\\n{parent} \\n\\npair:\\n{pop[i_]}\")\n",
    "        parent[cross_points] = pop[i_, cross_points]                            # Apareamiento (Produccion de un hijo)\n",
    "    return parent\n",
    "\n",
    "\n",
    "# proceso de mutación\n",
    "def mutate(child, *, dna_size: int = DNA_SIZE, verbose: bool = False):\n",
    "    for point in np.ndindex(dna_size, d):\n",
    "        if np.random.rand() < MUTATION_RATE:\n",
    "            if verbose:\n",
    "                print(f\"Mutated index: {point}\")\n",
    "            child[point] = 1 if child[point] == 0 else 0\n",
    "    return child"
   ]
  },
  {
   "cell_type": "markdown",
   "metadata": {},
   "source": [
    "### Select Process (EXAMPLE)"
   ]
  },
  {
   "cell_type": "code",
   "execution_count": null,
   "metadata": {},
   "outputs": [],
   "source": [
    "POP_SIZE_TEST = 3 # poblacion\n",
    "DNA_SIZE_TEST = 4 # DNA_SIZE\n",
    "pop_test = np.random.randint(2, size=(POP_SIZE_TEST, DNA_SIZE_TEST, d))\n",
    "print(pop_test.shape)\n",
    "pop_test"
   ]
  },
  {
   "cell_type": "code",
   "execution_count": null,
   "metadata": {},
   "outputs": [],
   "source": [
    "x = pop_test[0, :, 0] # chromosome 0 - dimension 1\n",
    "x"
   ]
  },
  {
   "cell_type": "code",
   "execution_count": null,
   "metadata": {},
   "outputs": [],
   "source": [
    "y = pop_test[0, :, 1] # chromosome 0 - dimension 2\n",
    "y"
   ]
  },
  {
   "cell_type": "code",
   "execution_count": null,
   "metadata": {},
   "outputs": [],
   "source": [
    "## translate DNA of chromosome 0\n",
    "x = x.dot(2 ** np.arange(DNA_SIZE_TEST)[::-1]) / float(2**DNA_SIZE_TEST-1)\n",
    "x = x*(X_BOUND[1] - X_BOUND[0]) + X_BOUND[0]\n",
    "x"
   ]
  },
  {
   "cell_type": "code",
   "execution_count": null,
   "metadata": {},
   "outputs": [],
   "source": [
    "## translate DNA of chromosome 0\n",
    "y = y.dot(2 ** np.arange(DNA_SIZE_TEST)[::-1]) / float(2**DNA_SIZE_TEST-1)\n",
    "y = y*(X_BOUND[1] - X_BOUND[0]) + X_BOUND[0]\n",
    "y"
   ]
  },
  {
   "cell_type": "code",
   "execution_count": null,
   "metadata": {},
   "outputs": [],
   "source": [
    "X, Y = translateDNA(pop_test, dna_size=DNA_SIZE_TEST)\n",
    "X, Y # X[0], Y[0]"
   ]
  },
  {
   "cell_type": "code",
   "execution_count": null,
   "metadata": {},
   "outputs": [],
   "source": [
    "F_values = F(X, Y)    # compute function value by extracting DNA\n",
    "F_values"
   ]
  },
  {
   "cell_type": "code",
   "execution_count": null,
   "metadata": {},
   "outputs": [],
   "source": [
    "fitness = get_fitness(F_values)\n",
    "fitness"
   ]
  },
  {
   "cell_type": "code",
   "execution_count": null,
   "metadata": {},
   "outputs": [],
   "source": [
    "fitness/fitness.sum()"
   ]
  },
  {
   "cell_type": "code",
   "execution_count": null,
   "metadata": {},
   "outputs": [],
   "source": [
    "np.arange(POP_SIZE_TEST)"
   ]
  },
  {
   "cell_type": "code",
   "execution_count": null,
   "metadata": {},
   "outputs": [],
   "source": [
    "# select function\n",
    "idx = np.random.choice(np.arange(POP_SIZE_TEST), size=POP_SIZE_TEST, replace=True,\n",
    "                           p=fitness/fitness.sum())\n",
    "\n",
    "idx"
   ]
  },
  {
   "cell_type": "code",
   "execution_count": null,
   "metadata": {},
   "outputs": [],
   "source": [
    "# best individual selected based on fitness values\n",
    "best = pop_test[idx]\n",
    "best"
   ]
  },
  {
   "cell_type": "code",
   "execution_count": null,
   "metadata": {},
   "outputs": [],
   "source": [
    "## crossover\n",
    "crossover(best[0], pop_test, dna_size=DNA_SIZE_TEST, pop_size=POP_SIZE_TEST, verbose=True)"
   ]
  },
  {
   "cell_type": "code",
   "execution_count": null,
   "metadata": {},
   "outputs": [],
   "source": [
    "## mutate\n",
    "mutate(best[0], dna_size=DNA_SIZE_TEST, verbose=True)"
   ]
  },
  {
   "cell_type": "markdown",
   "metadata": {},
   "source": [
    "### MAIN"
   ]
  },
  {
   "cell_type": "code",
   "execution_count": null,
   "metadata": {},
   "outputs": [],
   "source": [
    "PLOT_EVERY_GENERATIONS=1\n",
    "\n",
    "ax = plt.figure().add_subplot(projection='3d')\n",
    "sca = None\n",
    "\n",
    "for i in range(N_GENERATIONS):\n",
    "    X, Y = translateDNA(pop)\n",
    "    F_values = F(X, Y)    # compute function value by extracting DNA\n",
    "\n",
    "    if i % PLOT_EVERY_GENERATIONS == 0 or i == N_GENERATIONS-1: # plot every PLOT_EVERY_GENERATIONS generations\n",
    "        # Plotear\n",
    "        #import pdb; pdb.set_trace()\n",
    "        plot_ackley(ax)\n",
    "        if sca: sca.remove()\n",
    "        #sca = ax.scatter(X, Y, F_values, s=200, lw=0, c='red', alpha=0.5); plt.pause(0.1) # 0.05\n",
    "        sca = ax.scatter(X, Y, F_values, s=200, lw=0, c='red', alpha=0.5); plt.pause(0.05) # 0.05\n",
    "        #plt.show()\n",
    "\n",
    "    # Evolucion del AG\n",
    "    fitness = get_fitness(F_values)\n",
    "    print(f\"(Generation {i}) Most fitted DNA: \", pop[np.argmax(fitness), :].T)\n",
    "    pop = select(pop, fitness)\n",
    "    pop_copy = pop.copy()\n",
    "    for parent in pop:\n",
    "        child = crossover(parent, pop_copy)\n",
    "        child = mutate(child)\n",
    "        parent[:] = child       # Reemplazando al padre por el hijo\n",
    "\n",
    "plt.ioff(); plt.show()"
   ]
  }
 ],
 "metadata": {
  "colab": {
   "provenance": []
  },
  "kernelspec": {
   "display_name": "Python 3 (ipykernel)",
   "language": "python",
   "name": "python3"
  },
  "language_info": {
   "codemirror_mode": {
    "name": "ipython",
    "version": 3
   },
   "file_extension": ".py",
   "mimetype": "text/x-python",
   "name": "python",
   "nbconvert_exporter": "python",
   "pygments_lexer": "ipython3",
   "version": "3.11.5"
  }
 },
 "nbformat": 4,
 "nbformat_minor": 4
}
